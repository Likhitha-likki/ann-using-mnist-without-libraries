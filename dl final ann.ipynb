{
 "cells": [
  {
   "cell_type": "code",
   "execution_count": 1,
   "id": "d13c5bf3",
   "metadata": {},
   "outputs": [],
   "source": [
    "import numpy as np\n",
    "import pandas as pd\n",
    "from matplotlib import pyplot as plt\n",
    "data = pd.read_csv('train.csv')"
   ]
  },
  {
   "cell_type": "code",
   "execution_count": 2,
   "id": "57e9c8e8",
   "metadata": {},
   "outputs": [],
   "source": [
    "data=np.array(data)\n",
    "m,n=data.shape\n",
    "np.random.shuffle(data)\n",
    "#shuffling the data"
   ]
  },
  {
   "cell_type": "code",
   "execution_count": 3,
   "id": "5c59f253",
   "metadata": {},
   "outputs": [],
   "source": [
    "a=data[0:1000].T\n",
    "y=a[0]\n",
    "x=a[1:n]\n",
    "x=x/255"
   ]
  },
  {
   "cell_type": "code",
   "execution_count": 4,
   "id": "b8241042",
   "metadata": {},
   "outputs": [],
   "source": [
    "d_train=data[1000:m].T\n",
    "y_train=d_train[0]\n",
    "x_train=d_train[1:n]\n",
    "x_train=x_train/255\n",
    "_,m_train=x_train.shape"
   ]
  },
  {
   "cell_type": "code",
   "execution_count": 5,
   "id": "bb864cf6",
   "metadata": {},
   "outputs": [
    {
     "data": {
      "text/plain": [
       "array([2, 9, 8, ..., 1, 4, 4], dtype=int64)"
      ]
     },
     "execution_count": 5,
     "metadata": {},
     "output_type": "execute_result"
    }
   ],
   "source": [
    "y_train"
   ]
  },
  {
   "cell_type": "code",
   "execution_count": 6,
   "id": "b6a1fe84",
   "metadata": {},
   "outputs": [
    {
     "data": {
      "text/plain": [
       "array([[0., 0., 0., ..., 0., 0., 0.],\n",
       "       [0., 0., 0., ..., 0., 0., 0.],\n",
       "       [0., 0., 0., ..., 0., 0., 0.],\n",
       "       ...,\n",
       "       [0., 0., 0., ..., 0., 0., 0.],\n",
       "       [0., 0., 0., ..., 0., 0., 0.],\n",
       "       [0., 0., 0., ..., 0., 0., 0.]])"
      ]
     },
     "execution_count": 6,
     "metadata": {},
     "output_type": "execute_result"
    }
   ],
   "source": [
    "x_train"
   ]
  },
  {
   "cell_type": "code",
   "execution_count": 6,
   "id": "960e4577",
   "metadata": {},
   "outputs": [
    {
     "data": {
      "text/plain": [
       "(784, 41000)"
      ]
     },
     "execution_count": 6,
     "metadata": {},
     "output_type": "execute_result"
    }
   ],
   "source": [
    "x_train.shape"
   ]
  },
  {
   "cell_type": "code",
   "execution_count": 7,
   "id": "394a03d5",
   "metadata": {},
   "outputs": [
    {
     "data": {
      "text/plain": [
       "(41000,)"
      ]
     },
     "execution_count": 7,
     "metadata": {},
     "output_type": "execute_result"
    }
   ],
   "source": [
    "y_train.shape"
   ]
  },
  {
   "cell_type": "code",
   "execution_count": 7,
   "id": "c16cf885",
   "metadata": {},
   "outputs": [],
   "source": [
    "def init_p():\n",
    "    w1=np.random.rand(10,784) - 0.5\n",
    "    b1=np.random.rand(10,1) - 0.5\n",
    "    w2=np.random.rand(10,10) - 0.5\n",
    "    b2=np.random.rand(10,1) - 0.5\n",
    "    return w1,b1,w2,b2"
   ]
  },
  {
   "cell_type": "code",
   "execution_count": 8,
   "id": "b11b0c91",
   "metadata": {},
   "outputs": [],
   "source": [
    "def ReLU(Z):\n",
    "    return np.maximum(Z, 0)\n",
    "\n",
    "def softmax(Z):\n",
    "    A = np.exp(Z) / sum(np.exp(Z))\n",
    "    return A\n",
    "    \n",
    "def forward_prop(w1, b1, w2, b2, X):\n",
    "    Z1 = w1.dot(X) + b1\n",
    "    A1 = ReLU(Z1)\n",
    "    Z2 = w2.dot(A1) + b2\n",
    "    A2 = softmax(Z2)\n",
    "    return Z1, A1, Z2, A2\n",
    "\n",
    "def ReLU_deriv(Z):\n",
    "    return Z > 0"
   ]
  },
  {
   "cell_type": "code",
   "execution_count": 9,
   "id": "d39d5bbd",
   "metadata": {},
   "outputs": [],
   "source": [
    "def mat(Y):\n",
    "    mat_Y = np.zeros((Y.size, Y.max() + 1))\n",
    "    mat_Y[np.arange(Y.size), Y] = 1\n",
    "    mat_Y = mat_Y.T\n",
    "    return mat_Y"
   ]
  },
  {
   "cell_type": "code",
   "execution_count": 21,
   "id": "42e3c72c",
   "metadata": {},
   "outputs": [],
   "source": [
    "def backward_prop(Z1, A1, Z2, A2, w1, w2, X, Y):\n",
    "    mat_Y = mat(Y)\n",
    "    dZ2 = A2 - mat_Y\n",
    "    dw2 = 1 / m * dZ2.dot(A1.T)\n",
    "    db2 = 1 / m * np.sum(dZ2)\n",
    "    dZ1 = w2.T.dot(dZ2) * ReLU_deriv(Z1)\n",
    "    dw1 = 1 / m * dZ1.dot(X.T)\n",
    "    db1 = 1 / m * np.sum(dZ1)\n",
    "    return dw1, db1, dw2, db2\n",
    "\n",
    "def update_params(w1, b1, w2, b2, dw1, db1, dw2, db2, alpha):\n",
    "    w1 = w1 - alpha * dw1\n",
    "    w1 = w1 - alpha * db1    \n",
    "    w2 = w2 - alpha * dw2  \n",
    "    b2 = b2 - alpha * db2    \n",
    "    return w1, b1, w2, b2"
   ]
  },
  {
   "cell_type": "code",
   "execution_count": 22,
   "id": "29458108",
   "metadata": {},
   "outputs": [],
   "source": [
    "def get_predictions(A2):\n",
    "    return np.argmax(A2, 0)\n",
    "\n",
    "def get_accuracy(predictions, Y):\n",
    "    print(predictions, Y)\n",
    "    return np.sum(predictions == Y) / Y.size\n",
    "\n",
    "def gradient_descent(X, Y, alpha, iterations):\n",
    "    w1, b1, w2, b2 = init_p()\n",
    "    for i in range(iterations):\n",
    "        Z1, A1, Z2, A2 = forward_prop(w1, b1, w2, b2, X)\n",
    "        dw1, db1, dw2, db2 = backward_prop(Z1, A1, Z2, A2, w1, w2, X, Y)\n",
    "        w1, b1, w2, b2 = update_params(w1, b1, w2, b2, dw1, db1, dw2, db2, alpha)\n",
    "        if i % 10 == 0:\n",
    "            print(\"Iteration: \", i)\n",
    "            predictions = get_predictions(A2)\n",
    "            print(get_accuracy(predictions, Y))\n",
    "\n",
    "    return w1, b1, w2, b2"
   ]
  },
  {
   "cell_type": "code",
   "execution_count": 23,
   "id": "b8e7a49b",
   "metadata": {},
   "outputs": [
    {
     "name": "stdout",
     "output_type": "stream",
     "text": [
      "Iteration:  0\n",
      "[5 8 3 ... 5 0 0] [9 5 6 ... 2 0 3]\n",
      "0.10312195121951219\n",
      "Iteration:  10\n",
      "[8 8 8 ... 8 8 8] [9 5 6 ... 2 0 3]\n",
      "0.09670731707317073\n",
      "Iteration:  20\n",
      "[8 8 8 ... 8 8 8] [9 5 6 ... 2 0 3]\n",
      "0.09690243902439025\n",
      "Iteration:  30\n",
      "[8 8 8 ... 8 8 8] [9 5 6 ... 2 0 3]\n",
      "0.09685365853658537\n",
      "Iteration:  40\n",
      "[8 8 8 ... 8 8 8] [9 5 6 ... 2 0 3]\n",
      "0.09685365853658537\n",
      "Iteration:  50\n",
      "[8 8 8 ... 8 8 8] [9 5 6 ... 2 0 3]\n",
      "0.09687804878048781\n",
      "Iteration:  60\n",
      "[8 8 8 ... 8 8 8] [9 5 6 ... 2 0 3]\n",
      "0.09690243902439025\n",
      "Iteration:  70\n",
      "[8 8 8 ... 8 8 8] [9 5 6 ... 2 0 3]\n",
      "0.09690243902439025\n",
      "Iteration:  80\n",
      "[8 8 8 ... 8 8 8] [9 5 6 ... 2 0 3]\n",
      "0.09690243902439025\n",
      "Iteration:  90\n",
      "[8 8 8 ... 8 8 8] [9 5 6 ... 2 0 3]\n",
      "0.09690243902439025\n",
      "Iteration:  100\n",
      "[8 8 8 ... 8 8 8] [9 5 6 ... 2 0 3]\n",
      "0.09690243902439025\n",
      "Iteration:  110\n",
      "[8 8 8 ... 8 8 8] [9 5 6 ... 2 0 3]\n",
      "0.09687804878048781\n",
      "Iteration:  120\n",
      "[8 8 8 ... 8 8 8] [9 5 6 ... 2 0 3]\n",
      "0.09687804878048781\n",
      "Iteration:  130\n",
      "[8 8 8 ... 8 8 8] [9 5 6 ... 2 0 3]\n",
      "0.09687804878048781\n",
      "Iteration:  140\n",
      "[8 8 8 ... 8 8 8] [9 5 6 ... 2 0 3]\n",
      "0.09687804878048781\n",
      "Iteration:  150\n",
      "[8 8 8 ... 8 8 8] [9 5 6 ... 2 0 3]\n",
      "0.09687804878048781\n",
      "Iteration:  160\n",
      "[8 8 8 ... 8 8 8] [9 5 6 ... 2 0 3]\n",
      "0.09687804878048781\n",
      "Iteration:  170\n",
      "[8 8 8 ... 8 8 8] [9 5 6 ... 2 0 3]\n",
      "0.09687804878048781\n",
      "Iteration:  180\n",
      "[8 8 8 ... 8 8 8] [9 5 6 ... 2 0 3]\n",
      "0.09687804878048781\n",
      "Iteration:  190\n",
      "[8 8 8 ... 8 8 8] [9 5 6 ... 2 0 3]\n",
      "0.09687804878048781\n",
      "Iteration:  200\n",
      "[8 8 8 ... 8 8 8] [9 5 6 ... 2 0 3]\n",
      "0.09687804878048781\n",
      "Iteration:  210\n",
      "[8 8 8 ... 8 8 8] [9 5 6 ... 2 0 3]\n",
      "0.09687804878048781\n",
      "Iteration:  220\n",
      "[8 8 8 ... 8 8 8] [9 5 6 ... 2 0 3]\n",
      "0.09687804878048781\n",
      "Iteration:  230\n",
      "[8 8 8 ... 8 8 8] [9 5 6 ... 2 0 3]\n",
      "0.09687804878048781\n",
      "Iteration:  240\n",
      "[8 8 8 ... 8 8 8] [9 5 6 ... 2 0 3]\n",
      "0.09687804878048781\n",
      "Iteration:  250\n",
      "[8 8 8 ... 8 8 8] [9 5 6 ... 2 0 3]\n",
      "0.09687804878048781\n",
      "Iteration:  260\n",
      "[8 8 8 ... 8 8 8] [9 5 6 ... 2 0 3]\n",
      "0.09687804878048781\n",
      "Iteration:  270\n",
      "[8 8 8 ... 8 8 8] [9 5 6 ... 2 0 3]\n",
      "0.09687804878048781\n",
      "Iteration:  280\n",
      "[8 8 8 ... 8 8 8] [9 5 6 ... 2 0 3]\n",
      "0.09687804878048781\n",
      "Iteration:  290\n",
      "[8 8 8 ... 8 8 8] [9 5 6 ... 2 0 3]\n",
      "0.09687804878048781\n",
      "Iteration:  300\n",
      "[8 8 8 ... 8 8 8] [9 5 6 ... 2 0 3]\n",
      "0.09687804878048781\n",
      "Iteration:  310\n",
      "[8 8 8 ... 8 8 8] [9 5 6 ... 2 0 3]\n",
      "0.09687804878048781\n",
      "Iteration:  320\n",
      "[8 8 8 ... 8 8 8] [9 5 6 ... 2 0 3]\n",
      "0.09687804878048781\n",
      "Iteration:  330\n",
      "[8 8 8 ... 8 8 8] [9 5 6 ... 2 0 3]\n",
      "0.09687804878048781\n",
      "Iteration:  340\n",
      "[8 8 8 ... 8 8 8] [9 5 6 ... 2 0 3]\n",
      "0.09687804878048781\n",
      "Iteration:  350\n",
      "[8 8 8 ... 8 8 8] [9 5 6 ... 2 0 3]\n",
      "0.09687804878048781\n",
      "Iteration:  360\n",
      "[8 8 8 ... 8 8 8] [9 5 6 ... 2 0 3]\n",
      "0.09687804878048781\n",
      "Iteration:  370\n",
      "[8 8 8 ... 8 8 8] [9 5 6 ... 2 0 3]\n",
      "0.09687804878048781\n",
      "Iteration:  380\n",
      "[8 8 8 ... 8 8 8] [9 5 6 ... 2 0 3]\n",
      "0.09687804878048781\n",
      "Iteration:  390\n",
      "[8 8 8 ... 8 8 8] [9 5 6 ... 2 0 3]\n",
      "0.09687804878048781\n",
      "Iteration:  400\n",
      "[8 8 8 ... 8 8 8] [9 5 6 ... 2 0 3]\n",
      "0.09687804878048781\n",
      "Iteration:  410\n",
      "[8 8 8 ... 8 8 8] [9 5 6 ... 2 0 3]\n",
      "0.09687804878048781\n",
      "Iteration:  420\n",
      "[8 8 8 ... 8 8 8] [9 5 6 ... 2 0 3]\n",
      "0.09687804878048781\n",
      "Iteration:  430\n",
      "[8 8 8 ... 8 8 8] [9 5 6 ... 2 0 3]\n",
      "0.09687804878048781\n",
      "Iteration:  440\n",
      "[8 8 8 ... 8 8 8] [9 5 6 ... 2 0 3]\n",
      "0.09687804878048781\n",
      "Iteration:  450\n",
      "[8 8 8 ... 8 8 8] [9 5 6 ... 2 0 3]\n",
      "0.09687804878048781\n",
      "Iteration:  460\n",
      "[8 8 8 ... 8 8 8] [9 5 6 ... 2 0 3]\n",
      "0.09687804878048781\n",
      "Iteration:  470\n",
      "[8 8 8 ... 8 8 8] [9 5 6 ... 2 0 3]\n",
      "0.09687804878048781\n",
      "Iteration:  480\n",
      "[8 8 8 ... 8 8 8] [9 5 6 ... 2 0 3]\n",
      "0.09687804878048781\n",
      "Iteration:  490\n",
      "[8 8 8 ... 8 8 8] [9 5 6 ... 2 0 3]\n",
      "0.09687804878048781\n"
     ]
    }
   ],
   "source": [
    "w1, b1, w2, b2 = gradient_descent(x_train, y_train, 0.10, 500)"
   ]
  },
  {
   "cell_type": "code",
   "execution_count": 28,
   "id": "4342e30b",
   "metadata": {},
   "outputs": [],
   "source": [
    "def make_predictions(X, w1, b1, w2, b2):\n",
    "    _, _, _, A2 = forward_prop(w1, b1, w2, b2, X)\n",
    "    predictions = get_predictions(A2)\n",
    "    return predictions\n",
    "\n",
    "def test_prediction(index, w1, b1, w2, b2):\n",
    "    current_image = x_train[:, index, None]\n",
    "    prediction = make_predictions(x_train[:, index, None], w1, b1, w2, b2)\n",
    "    label = y_train[index]\n",
    "    print(\"Prediction: \", prediction)\n",
    "    print(\"Label: \", label)\n",
    "    \n",
    "    current_image = current_image.reshape((28, 28)) * 255\n",
    "    plt.gray()\n",
    "    plt.imshow(current_image, interpolation='nearest')\n",
    "    plt.show()"
   ]
  },
  {
   "cell_type": "code",
   "execution_count": 34,
   "id": "5d886b2e",
   "metadata": {},
   "outputs": [
    {
     "name": "stdout",
     "output_type": "stream",
     "text": [
      "Prediction:  [8]\n",
      "Label:  9\n"
     ]
    },
    {
     "data": {
      "image/png": "[encoded data removed]",
      "text/plain": [
       "<Figure size 432x288 with 1 Axes>"
      ]
     },
     "metadata": {
      "needs_background": "light"
     },
     "output_type": "display_data"
    },
    {
     "name": "stdout",
     "output_type": "stream",
     "text": [
      "Prediction:  [8]\n",
      "Label:  5\n"
     ]
    },
    {
     "data": {
      "image/png": "[encoded data removed]",
      "text/plain": [
       "<Figure size 432x288 with 1 Axes>"
      ]
     },
     "metadata": {
      "needs_background": "light"
     },
     "output_type": "display_data"
    },
    {
     "name": "stdout",
     "output_type": "stream",
     "text": [
      "Prediction:  [8]\n",
      "Label:  6\n"
     ]
    },
    {
     "data": {
      "image/png": "[encoded data removed]",
      "text/plain": [
       "<Figure size 432x288 with 1 Axes>"
      ]
     },
     "metadata": {
      "needs_background": "light"
     },
     "output_type": "display_data"
    },
    {
     "name": "stdout",
     "output_type": "stream",
     "text": [
      "Prediction:  [8]\n",
      "Label:  1\n"
     ]
    },
    {
     "data": {
      "image/png": "[encoded data removed]",
      "text/plain": [
       "<Figure size 432x288 with 1 Axes>"
      ]
     },
     "metadata": {
      "needs_background": "light"
     },
     "output_type": "display_data"
    }
   ],
   "source": [
    "test_prediction(0, w1, b1, w2, b2)\n",
    "test_prediction(1, w1, b1, w2, b2)\n",
    "test_prediction(2, w1, b1, w2, b2)\n",
    "test_prediction(3, w1, b1, w2, b2)"
   ]
  },
  {
   "cell_type": "code",
   "execution_count": 35,
   "id": "c02c3a0e",
   "metadata": {},
   "outputs": [
    {
     "name": "stdout",
     "output_type": "stream",
     "text": [
      "[8 8 8 8 8 8 8 8 8 8 8 8 8 8 8 8 8 8 8 8 8 8 8 8 8 8 8 8 8 8 8 8 8 8 8 8 8\n",
      " 8 8 8 8 8 8 8 8 8 8 8 8 8 8 8 8 8 8 8 8 8 8 8 8 8 8 8 8 8 8 8 8 8 8 8 8 8\n",
      " 8 8 8 8 8 8 8 8 8 8 8 8 8 8 8 8 8 8 8 8 8 8 8 8 8 8 8 8 8 8 8 8 8 8 8 8 8\n",
      " 8 8 8 8 8 8 8 8 8 8 8 8 8 8 8 8 8 8 8 8 8 8 8 8 8 8 8 8 8 8 8 8 8 8 8 8 8\n",
      " 8 8 8 8 8 8 8 8 8 8 8 8 8 8 8 8 8 8 8 8 8 8 8 8 8 8 8 8 8 8 8 8 8 3 8 8 8\n",
      " 8 8 8 8 8 8 8 8 8 8 8 8 8 8 8 8 8 8 8 8 8 8 8 8 8 8 8 8 8 8 8 8 8 8 8 8 8\n",
      " 8 8 8 8 8 8 8 8 8 8 8 8 8 8 8 8 8 8 8 8 8 8 8 8 8 8 8 8 8 8 8 8 8 8 8 8 8\n",
      " 8 8 8 8 8 8 8 8 8 8 8 8 8 8 8 8 8 8 8 8 8 8 8 8 8 8 8 8 8 8 8 8 8 8 8 8 8\n",
      " 8 8 8 8 8 8 8 8 8 8 8 8 8 8 8 8 8 8 8 8 8 8 8 8 8 8 8 8 8 8 8 8 8 8 8 8 8\n",
      " 8 8 8 8 8 8 8 8 8 8 8 8 8 8 8 8 8 8 8 8 8 8 8 8 8 8 8 8 8 8 8 8 8 8 8 8 8\n",
      " 8 8 8 8 8 8 8 8 8 8 8 8 8 8 8 8 8 8 8 8 8 8 8 8 8 8 8 8 8 8 8 8 8 8 8 8 8\n",
      " 8 8 8 8 8 8 8 8 8 8 8 8 8 8 8 8 8 8 8 8 8 8 8 8 8 8 8 8 8 8 8 8 8 8 8 8 8\n",
      " 8 8 8 8 8 8 8 8 8 8 8 8 8 8 8 8 8 8 8 8 8 8 8 8 8 8 8 8 8 8 8 8 8 8 8 8 8\n",
      " 8 8 8 8 8 8 8 8 8 8 8 8 8 8 8 8 8 8 8 8 8 8 8 8 8 8 8 8 8 8 8 8 8 8 8 8 8\n",
      " 8 8 8 8 8 8 8 8 8 8 8 8 8 8 8 8 8 8 8 8 8 8 8 8 8 8 8 8 8 8 8 8 8 8 8 8 8\n",
      " 8 8 8 8 8 8 8 8 8 8 8 8 8 8 8 8 8 8 8 8 8 8 8 8 8 8 8 8 8 8 8 8 8 8 8 8 8\n",
      " 8 8 8 8 8 8 8 8 8 8 8 8 8 8 8 8 8 8 8 8 8 8 8 8 8 8 8 8 8 8 8 8 8 8 8 8 8\n",
      " 8 8 8 8 8 8 8 8 8 8 8 8 8 8 8 8 8 8 8 8 8 8 8 8 8 8 8 8 8 8 8 8 8 8 8 8 8\n",
      " 8 8 8 8 8 8 8 8 8 8 8 8 8 8 8 8 8 8 8 8 8 8 8 8 8 8 8 8 8 8 8 8 8 8 8 8 8\n",
      " 8 8 8 8 8 8 8 8 8 8 8 8 8 8 8 8 8 8 8 8 8 8 8 8 8 8 8 8 8 8 8 3 8 8 8 8 8\n",
      " 8 8 8 8 8 8 8 8 8 8 8 8 8 8 8 8 8 8 8 8 8 8 8 8 8 8 8 8 8 8 8 8 8 8 8 8 8\n",
      " 8 8 8 8 8 8 8 8 8 8 8 8 8 8 8 8 8 8 8 8 8 8 8 8 8 8 8 8 8 8 8 8 8 8 8 8 8\n",
      " 8 8 8 8 8 8 8 8 8 8 8 8 8 8 8 8 8 8 8 8 8 8 8 8 8 8 8 8 8 8 8 8 8 8 8 8 8\n",
      " 8 8 8 8 8 8 8 8 8 8 8 8 8 8 8 8 8 8 8 8 8 8 8 8 8 8 8 8 8 8 8 8 8 8 8 8 8\n",
      " 8 8 8 8 8 8 8 8 8 8 8 8 8 8 8 8 8 8 8 8 8 8 8 8 8 8 8 8 8 8 8 8 8 8 8 8 8\n",
      " 8 8 8 8 8 8 8 8 8 8 8 8 8 8 8 8 8 8 8 8 8 8 8 8 8 8 8 8 8 8 8 8 8 8 8 8 8\n",
      " 8 8 8 8 8 8 8 8 8 8 8 8 8 8 8 8 8 8 8 8 8 8 8 8 8 8 8 8 8 8 8 8 8 8 8 8 8\n",
      " 8] [6 0 1 7 7 8 4 3 2 1 3 5 2 6 8 0 2 6 4 3 7 4 7 4 6 6 3 6 2 1 1 0 9 2 8 7 0\n",
      " 0 9 5 9 4 0 8 3 1 8 8 3 1 0 3 3 0 8 7 4 3 3 2 6 9 3 4 3 4 7 9 5 7 5 3 5 4\n",
      " 0 2 4 8 7 0 9 3 7 2 0 2 5 9 4 2 2 8 1 2 6 6 8 2 8 8 9 0 3 4 5 4 6 9 2 1 2\n",
      " 7 8 8 2 1 0 7 8 9 3 7 0 2 7 1 5 0 5 5 5 8 9 3 5 4 3 4 5 7 2 2 6 2 3 4 8 2\n",
      " 8 1 2 7 7 3 3 5 7 8 2 5 3 8 1 3 7 0 6 7 5 5 3 7 3 0 7 3 2 4 4 0 1 1 1 7 8\n",
      " 4 5 4 5 0 7 4 5 0 9 9 9 7 2 9 9 8 2 9 7 5 0 2 6 8 3 6 1 8 0 7 2 3 6 0 8 8\n",
      " 1 7 4 0 8 1 1 5 1 0 3 4 8 8 5 3 4 8 4 9 2 7 0 8 6 2 4 4 7 9 9 8 3 5 1 9 8\n",
      " 5 8 5 0 3 0 9 6 7 2 4 6 4 3 1 3 0 6 6 9 2 4 9 1 7 0 9 3 6 6 1 7 7 7 4 2 9\n",
      " 3 9 7 3 1 8 6 9 1 1 2 9 0 0 7 1 9 9 5 7 8 9 1 2 2 4 4 6 5 5 5 4 9 0 2 8 1\n",
      " 2 2 1 4 4 0 5 7 8 3 4 3 4 8 3 9 4 3 1 2 2 7 0 6 7 9 5 9 7 1 3 7 7 1 2 2 4\n",
      " 9 1 9 8 3 2 6 5 7 1 3 0 0 9 0 0 6 6 6 1 4 1 4 0 5 4 0 2 5 4 1 1 6 0 1 7 8\n",
      " 2 5 9 1 2 6 9 7 8 8 9 1 1 1 0 4 4 1 6 1 1 9 4 4 7 8 3 3 9 0 4 2 6 0 1 2 7\n",
      " 5 6 7 2 7 6 5 3 6 9 0 9 9 9 9 3 2 9 9 3 6 6 2 9 4 2 3 5 0 3 5 7 3 6 9 7 7\n",
      " 3 0 0 3 3 6 0 0 1 6 2 5 4 3 0 4 8 3 3 2 9 9 2 9 9 9 8 3 3 3 9 1 4 2 4 0 4\n",
      " 9 1 0 5 7 0 2 7 9 8 1 7 8 8 3 6 0 1 4 0 1 5 6 3 4 9 6 1 0 4 6 1 2 0 3 1 6\n",
      " 8 9 9 2 1 7 1 1 0 7 1 7 0 3 9 3 9 7 9 6 1 4 0 8 9 6 4 1 1 8 1 8 9 0 2 5 0\n",
      " 9 6 6 1 1 2 4 5 1 3 3 6 5 4 1 5 0 9 3 1 1 7 8 8 3 0 0 7 5 5 0 1 0 7 9 1 7\n",
      " 8 1 4 3 3 9 0 4 0 1 5 5 9 3 4 7 0 8 3 8 3 9 2 2 2 4 7 7 2 5 7 7 5 1 7 4 0\n",
      " 5 2 3 0 2 5 6 5 7 1 9 3 4 2 6 6 1 3 1 2 4 5 1 2 9 2 3 9 4 4 6 0 6 6 4 2 8\n",
      " 6 5 6 4 8 3 0 9 5 9 0 7 8 5 7 7 6 7 6 0 8 5 5 4 4 9 0 0 3 1 6 1 1 4 8 9 9\n",
      " 0 1 9 2 4 9 2 4 9 1 2 3 4 5 9 1 8 8 1 8 3 1 8 0 8 4 1 5 6 0 6 4 9 8 5 4 9\n",
      " 2 5 8 7 4 3 2 7 7 9 3 4 4 0 8 0 4 8 3 0 6 1 9 5 8 3 5 3 3 5 9 8 3 1 7 2 3\n",
      " 8 4 3 8 9 3 9 7 4 4 0 1 5 2 1 2 2 0 0 0 2 4 6 8 7 0 4 9 7 4 3 3 9 0 4 5 6\n",
      " 6 7 8 2 2 4 6 8 8 5 2 3 4 9 3 7 4 8 7 6 4 0 4 1 3 4 1 6 8 8 0 6 2 5 3 1 1\n",
      " 2 9 1 1 4 5 1 3 4 9 0 4 2 1 4 3 9 7 3 1 6 0 3 4 5 9 2 9 0 8 2 7 5 0 6 1 0\n",
      " 2 3 9 1 3 2 6 0 6 6 9 8 1 9 2 8 2 1 6 3 6 5 5 4 4 8 9 4 1 9 1 0 9 2 8 0 3\n",
      " 5 0 8 6 7 6 8 4 3 2 7 5 7 2 5 7 4 0 4 7 7 9 1 4 0 3 8 1 6 4 2 4 3 9 1 5 5\n",
      " 4]\n"
     ]
    },
    {
     "data": {
      "text/plain": [
       "0.091"
      ]
     },
     "execution_count": 35,
     "metadata": {},
     "output_type": "execute_result"
    }
   ],
   "source": [
    "dev_predictions = make_predictions(x, w1, b1, w2, b2)\n",
    "get_accuracy(dev_predictions, y)"
   ]
  },
  {
   "cell_type": "code",
   "execution_count": null,
   "id": "4eec1c04",
   "metadata": {},
   "outputs": [],
   "source": []
  }
 ],
 "metadata": {
  "kernelspec": {
   "display_name": "Python 3 (ipykernel)",
   "language": "python",
   "name": "python3"
  },
  "language_info": {
   "codemirror_mode": {
    "name": "ipython",
    "version": 3
   },
   "file_extension": ".py",
   "mimetype": "text/x-python",
   "name": "python",
   "nbconvert_exporter": "python",
   "pygments_lexer": "ipython3",
   "version": "3.9.7"
  }
 },
 "nbformat": 4,
 "nbformat_minor": 5
}
